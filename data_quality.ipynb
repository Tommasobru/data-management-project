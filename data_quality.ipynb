{
 "cells": [
  {
   "cell_type": "code",
   "execution_count": 1,
   "metadata": {},
   "outputs": [],
   "source": [
    "import pandas as pd\n",
    "import difflib  \n"
   ]
  },
  {
   "cell_type": "code",
   "execution_count": 2,
   "metadata": {},
   "outputs": [],
   "source": [
    "def lower_string(word):\n",
    "    # Controlla se il valore è una stringa, altrimenti restituisce una stringa vuota\n",
    "    if isinstance(word, str):\n",
    "        return word.lower().strip()\n",
    "    else:\n",
    "        return \"\""
   ]
  },
  {
   "cell_type": "code",
   "execution_count": 3,
   "metadata": {},
   "outputs": [],
   "source": [
    "\n",
    "def distance_between_string(string1 , string2):\n",
    "    # converts string to lower case\n",
    "    lower_string1 = lower_string(string1)\n",
    "    lower_string2 = lower_string(string2)\n",
    "\n",
    "    # calculate the difference between string\n",
    "    d = difflib.Differ()\n",
    "    diff = list(d.compare(lower_string1,lower_string2))\n",
    "\n",
    "    # count the number of insertion, deletion or replacement operations\n",
    "    distance_count = sum(1 for sim in diff if sim.startswith('-') or sim.startswith('+'))\n",
    "\n",
    "    # calculate max length between the string\n",
    "    max_length = max(len(lower_string1), len(lower_string2))\n",
    "\n",
    "    # calculate ED normalized\n",
    "    normalized_ed = distance_count/max_length \n",
    "\n",
    "    return normalized_ed\n"
   ]
  },
  {
   "cell_type": "code",
   "execution_count": null,
   "metadata": {},
   "outputs": [],
   "source": [
    "# find closest string \n",
    "def find_closest_string(target, string_list):\n",
    "    if not string_list:\n",
    "        return None\n",
    "    \n",
    "    min_normalized = float('inf')\n",
    "    closest_string = None  \n",
    "\n",
    "    for word in string_list:\n",
    "        normalized_eod = distance_between_string(target,word)\n",
    "\n",
    "        if normalized_eod < min_normalized:\n",
    "            min_normalized = normalized_eod\n",
    "            closest_string = word\n",
    "\n",
    "    return closest_string,min_normalized"
   ]
  },
  {
   "cell_type": "code",
   "execution_count": null,
   "metadata": {},
   "outputs": [],
   "source": [
    "def unique_id(column):\n",
    "    if column.is_unique:\n",
    "        print(\"Gli ID sono unici.\")\n",
    "    else:\n",
    "        print(\"Gli ID non sono unici.\")\n"
   ]
  },
  {
   "cell_type": "code",
   "execution_count": null,
   "metadata": {},
   "outputs": [],
   "source": [
    "def count_nulls_per_column(df):\n",
    "    \"\"\"\n",
    "    Calcola il numero di valori nulli per ogni colonna in un DataFrame.\n",
    "\n",
    "    Parametri:\n",
    "        df (pd.DataFrame): Il DataFrame da analizzare.\n",
    "\n",
    "    Ritorna:\n",
    "        pd.DataFrame: DataFrame con due colonne: 'Column' e 'Null Count',\n",
    "                      che mostrano il nome della colonna e il numero di valori nulli.\n",
    "    \"\"\"\n",
    "    null_counts = df.isnull().sum()\n",
    "    result = pd.DataFrame({'Column': null_counts.index, 'Null Count': null_counts.values})\n",
    "    print(result)\n",
    "    return result\n"
   ]
  },
  {
   "cell_type": "code",
   "execution_count": null,
   "metadata": {},
   "outputs": [],
   "source": [
    "file_player_team = 'dataset/clean dataset/clean_player_team.csv'\n",
    "file_matches = 'dataset/clean dataset/clean_matches.csv'\n",
    "file_lista_team = 'dataset/clean dataset/clean_list_team.csv'\n",
    "file_odds_team = 'dataset/clean dataset/clean_odds_per_match.csv'\n",
    "\n",
    "api_matches = pd.read_csv(file_matches)\n",
    "scraping_lista_team = pd.read_csv(file_lista_team)\n",
    "scraping_player_team = pd.read_csv(file_player_team)\n",
    "scraping_odds_team = pd.read_csv(file_odds_team)"
   ]
  },
  {
   "cell_type": "code",
   "execution_count": null,
   "metadata": {},
   "outputs": [],
   "source": [
    "#unique_id(api_matches['match_id'])\n",
    "\n",
    "\n",
    "\n",
    "##### COMPLETENESS\n",
    "count_nulls_per_column(api_matches) \n",
    "# null value are the matches that have yet to be played \n",
    "\n",
    "\n",
    "# null values are for games in which no goals were scored\n",
    "count_nulls_per_column(scraping_lista_team)\n",
    "count_nulls_per_column(scraping_player_team)\n",
    "\n",
    "#### SYNTACTIC ACCURACY\n",
    "scraping_team = scraping_lista_team['team'].unique().tolist()\n",
    "api_teams = api_matches['home_team'].unique().tolist()\n",
    "\n",
    "for team in scraping_team:\n",
    "    team_api, dist = find_closest_string(team, api_teams)\n",
    "    print(\"##########################\")\n",
    "    print(\"\")\n",
    "    print(team)\n",
    "    print(\"\")\n",
    "    print(team_api) \n",
    "    print(\"\")\n",
    "    print(f\"distanza:  {dist}\")\n",
    "    print(\"\")\n",
    "\n",
    "\n",
    "odds_team = scraping_odds_team['home_team'].unique().tolist()\n",
    "for team in odds_team:\n",
    "    team_api, dist = find_closest_string(team, api_teams) \n",
    "    print(\"##########################\")\n",
    "    print(\"\")\n",
    "    print(team)\n",
    "    print(\"\")\n",
    "    print(team_api) \n",
    "    print(\"\")\n",
    "    print(f\"distanza:  {dist}\")\n",
    "    print(\"\")\n",
    "\n",
    "\n"
   ]
  }
 ],
 "metadata": {
  "kernelspec": {
   "display_name": "venv",
   "language": "python",
   "name": "python3"
  },
  "language_info": {
   "codemirror_mode": {
    "name": "ipython",
    "version": 3
   },
   "file_extension": ".py",
   "mimetype": "text/x-python",
   "name": "python",
   "nbconvert_exporter": "python",
   "pygments_lexer": "ipython3",
   "version": "3.12.3"
  }
 },
 "nbformat": 4,
 "nbformat_minor": 2
}
