{
 "cells": [
  {
   "cell_type": "code",
   "execution_count": 4,
   "metadata": {},
   "outputs": [],
   "source": [
    "import pandas as pd\n",
    "import difflib  \n"
   ]
  },
  {
   "cell_type": "code",
   "execution_count": 5,
   "metadata": {},
   "outputs": [],
   "source": [
    "def lower_string(word):\n",
    "    # Controlla se il valore è una stringa, altrimenti restituisce una stringa vuota\n",
    "    if isinstance(word, str):\n",
    "        return word.lower().strip()\n",
    "    else:\n",
    "        return \"\""
   ]
  },
  {
   "cell_type": "code",
   "execution_count": 6,
   "metadata": {},
   "outputs": [],
   "source": [
    "\n",
    "def distance_between_string(string1 , string2):\n",
    "    # converts string to lower case\n",
    "    lower_string1 = lower_string(string1)\n",
    "    lower_string2 = lower_string(string2)\n",
    "\n",
    "    # calculate the difference between string\n",
    "    d = difflib.Differ()\n",
    "    diff = list(d.compare(lower_string1,lower_string2))\n",
    "\n",
    "    # count the number of insertion, deletion or replacement operations\n",
    "    distance_count = sum(1 for sim in diff if sim.startswith('-') or sim.startswith('+'))\n",
    "\n",
    "    # calculate max length between the string\n",
    "    max_length = max(len(lower_string1), len(lower_string2))\n",
    "\n",
    "    # calculate ED normalized\n",
    "    normalized_ed = distance_count/max_length \n",
    "\n",
    "    return normalized_ed\n"
   ]
  },
  {
   "cell_type": "code",
   "execution_count": 7,
   "metadata": {},
   "outputs": [],
   "source": [
    "# find closest string \n",
    "def find_closest_string(target, string_list):\n",
    "    if not string_list:\n",
    "        return None\n",
    "    \n",
    "    min_normalized = float('inf')\n",
    "    closest_string = None  \n",
    "\n",
    "    for word in string_list:\n",
    "        normalized_eod = distance_between_string(target,word)\n",
    "\n",
    "        if normalized_eod < min_normalized:\n",
    "            min_normalized = normalized_eod\n",
    "            closest_string = word\n",
    "\n",
    "    return closest_string,min_normalized"
   ]
  },
  {
   "cell_type": "code",
   "execution_count": 8,
   "metadata": {},
   "outputs": [],
   "source": [
    "def unique_id(column):\n",
    "    if column.is_unique:\n",
    "        print(\"Gli ID sono unici.\")\n",
    "    else:\n",
    "        print(\"Gli ID non sono unici.\")\n"
   ]
  },
  {
   "cell_type": "markdown",
   "metadata": {},
   "source": [
    "### count_nulls_per_column\n",
    "The function counts how many null values (NaN) are present in each column of a DataFrame."
   ]
  },
  {
   "cell_type": "code",
   "execution_count": 9,
   "metadata": {},
   "outputs": [],
   "source": [
    "def count_nulls_per_column(df):\n",
    "    \"\"\"\n",
    "    Calcola il numero di valori nulli per ogni colonna in un DataFrame.\n",
    "\n",
    "    Parametri:\n",
    "        df (pd.DataFrame): Il DataFrame da analizzare.\n",
    "\n",
    "    Ritorna:\n",
    "        pd.DataFrame: DataFrame con due colonne: 'Column' e 'Null Count',\n",
    "                      che mostrano il nome della colonna e il numero di valori nulli.\n",
    "    \"\"\"\n",
    "    null_counts = df.isnull().sum()\n",
    "    result = pd.DataFrame({'Column': null_counts.index, 'Null Count': null_counts.values})\n",
    "    print(result)\n",
    "    return result\n"
   ]
  },
  {
   "cell_type": "code",
   "execution_count": 10,
   "metadata": {},
   "outputs": [],
   "source": [
    "file_player_team = 'dataset/clean dataset/clean_player_team.csv'\n",
    "file_matches = 'dataset/clean dataset/clean_matches.csv'\n",
    "file_lista_team = 'dataset/clean dataset/clean_list_team.csv'\n",
    "file_odds_team = 'dataset/clean dataset/clean_odds_per_match.csv'\n",
    "file_matches_goal = 'dataset/clean dataset/clean_matches_goal.csv' \n",
    "\n",
    "api_matches = pd.read_csv(file_matches)\n",
    "scraping_lista_team = pd.read_csv(file_lista_team)\n",
    "scraping_player_team = pd.read_csv(file_player_team)\n",
    "scraping_odds_team = pd.read_csv(file_odds_team)\n",
    "matches_goal = pd.read_csv(file_matches_goal)"
   ]
  },
  {
   "cell_type": "markdown",
   "metadata": {},
   "source": [
    "1. Verify the uniqueness of match keys. Print or return a list of duplicate or non-unique IDs.\n",
    "2. Looking for the closest API name to each name from scraping. Function find_closest_string() returns the closest API name (team_api) and the normalized distance (dist), calculated with distance_between_string().\n"
   ]
  },
  {
   "cell_type": "code",
   "execution_count": 11,
   "metadata": {},
   "outputs": [
    {
     "name": "stdout",
     "output_type": "stream",
     "text": [
      "Gli ID non sono unici.\n",
      "##########################\n",
      "\n",
      "Juventus\n",
      "\n",
      "Juventus\n",
      "\n",
      "distanza:  0.0\n",
      "\n",
      "##########################\n",
      "\n",
      "Inter\n",
      "\n",
      "Inter\n",
      "\n",
      "distanza:  0.0\n",
      "\n",
      "##########################\n",
      "\n",
      "Milan\n",
      "\n",
      "Milan\n",
      "\n",
      "distanza:  0.0\n",
      "\n",
      "##########################\n",
      "\n",
      "Napoli\n",
      "\n",
      "Napoli\n",
      "\n",
      "distanza:  0.0\n",
      "\n",
      "##########################\n",
      "\n",
      "Atalanta\n",
      "\n",
      "Atalanta\n",
      "\n",
      "distanza:  0.0\n",
      "\n",
      "##########################\n",
      "\n",
      "Roma\n",
      "\n",
      "Roma\n",
      "\n",
      "distanza:  0.0\n",
      "\n",
      "##########################\n",
      "\n",
      "Fiorentina\n",
      "\n",
      "Fiorentina\n",
      "\n",
      "distanza:  0.0\n",
      "\n",
      "##########################\n",
      "\n",
      "Lazio\n",
      "\n",
      "Lazio\n",
      "\n",
      "distanza:  0.0\n",
      "\n",
      "##########################\n",
      "\n",
      "Sassuolo\n",
      "\n",
      "Sassuolo\n",
      "\n",
      "distanza:  0.0\n",
      "\n",
      "##########################\n",
      "\n",
      "Torino\n",
      "\n",
      "Torino\n",
      "\n",
      "distanza:  0.0\n",
      "\n",
      "##########################\n",
      "\n",
      "Bologna\n",
      "\n",
      "Bologna\n",
      "\n",
      "distanza:  0.0\n",
      "\n",
      "##########################\n",
      "\n",
      "Verona\n",
      "\n",
      "Verona\n",
      "\n",
      "distanza:  0.0\n",
      "\n",
      "##########################\n",
      "\n",
      "Udinese\n",
      "\n",
      "Udinese\n",
      "\n",
      "distanza:  0.0\n",
      "\n",
      "##########################\n",
      "\n",
      "Cagliari\n",
      "\n",
      "Cagliari\n",
      "\n",
      "distanza:  0.0\n",
      "\n",
      "##########################\n",
      "\n",
      "Sampdoria\n",
      "\n",
      "Sampdoria\n",
      "\n",
      "distanza:  0.0\n",
      "\n",
      "##########################\n",
      "\n",
      "Empoli\n",
      "\n",
      "Empoli\n",
      "\n",
      "distanza:  0.0\n",
      "\n",
      "##########################\n",
      "\n",
      "Genoa\n",
      "\n",
      "Genoa\n",
      "\n",
      "distanza:  0.0\n",
      "\n",
      "##########################\n",
      "\n",
      "Venezia\n",
      "\n",
      "Venezia\n",
      "\n",
      "distanza:  0.0\n",
      "\n",
      "##########################\n",
      "\n",
      "Spezia\n",
      "\n",
      "Spezia\n",
      "\n",
      "distanza:  0.0\n",
      "\n",
      "##########################\n",
      "\n",
      "Salernitana\n",
      "\n",
      "Salernitana\n",
      "\n",
      "distanza:  0.0\n",
      "\n",
      "##########################\n",
      "\n",
      "Monza\n",
      "\n",
      "Monza\n",
      "\n",
      "distanza:  0.0\n",
      "\n",
      "##########################\n",
      "\n",
      "Lecce\n",
      "\n",
      "Lecce\n",
      "\n",
      "distanza:  0.0\n",
      "\n",
      "##########################\n",
      "\n",
      "Cremonese\n",
      "\n",
      "Cremonese\n",
      "\n",
      "distanza:  0.0\n",
      "\n",
      "##########################\n",
      "\n",
      "Frosinone\n",
      "\n",
      "Frosinone\n",
      "\n",
      "distanza:  0.0\n",
      "\n",
      "##########################\n",
      "\n",
      "Como\n",
      "\n",
      "Como\n",
      "\n",
      "distanza:  0.0\n",
      "\n",
      "##########################\n",
      "\n",
      "Parma\n",
      "\n",
      "Parma\n",
      "\n",
      "distanza:  0.0\n",
      "\n"
     ]
    }
   ],
   "source": [
    "unique_id(api_matches['match_key'])\n",
    "\n",
    "\n",
    "\n",
    "#### SYNTACTIC ACCURACY\n",
    "scraping_team = scraping_lista_team['team'].unique().tolist()\n",
    "api_teams = api_matches['home_team'].unique().tolist()\n",
    "\n",
    "for team in scraping_team:\n",
    "    team_api, dist = find_closest_string(team, api_teams)\n",
    "    print(\"##########################\")\n",
    "    print(\"\")\n",
    "    print(team)\n",
    "    print(\"\")\n",
    "    print(team_api) \n",
    "    print(\"\")\n",
    "    print(f\"distanza:  {dist}\")\n",
    "    print(\"\")\n"
   ]
  },
  {
   "cell_type": "code",
   "execution_count": 12,
   "metadata": {},
   "outputs": [
    {
     "name": "stdout",
     "output_type": "stream",
     "text": [
      "##########################\n",
      "\n",
      "Atalanta\n",
      "\n",
      "Atalanta\n",
      "\n",
      "distanza:  0.0\n",
      "\n",
      "##########################\n",
      "\n",
      "Empoli\n",
      "\n",
      "Empoli\n",
      "\n",
      "distanza:  0.0\n",
      "\n",
      "##########################\n",
      "\n",
      "Lazio\n",
      "\n",
      "Lazio\n",
      "\n",
      "distanza:  0.0\n",
      "\n",
      "##########################\n",
      "\n",
      "Torino\n",
      "\n",
      "Torino\n",
      "\n",
      "distanza:  0.0\n",
      "\n",
      "##########################\n",
      "\n",
      "Udinese\n",
      "\n",
      "Udinese\n",
      "\n",
      "distanza:  0.0\n",
      "\n",
      "##########################\n",
      "\n",
      "Venezia\n",
      "\n",
      "Venezia\n",
      "\n",
      "distanza:  0.0\n",
      "\n",
      "##########################\n",
      "\n",
      "Milan\n",
      "\n",
      "Milan\n",
      "\n",
      "distanza:  0.0\n",
      "\n",
      "##########################\n",
      "\n",
      "Bologna\n",
      "\n",
      "Bologna\n",
      "\n",
      "distanza:  0.0\n",
      "\n",
      "##########################\n",
      "\n",
      "Como\n",
      "\n",
      "Como\n",
      "\n",
      "distanza:  0.0\n",
      "\n",
      "##########################\n",
      "\n",
      "Napoli\n",
      "\n",
      "Napoli\n",
      "\n",
      "distanza:  0.0\n",
      "\n",
      "##########################\n",
      "\n",
      "Roma\n",
      "\n",
      "Roma\n",
      "\n",
      "distanza:  0.0\n",
      "\n",
      "##########################\n",
      "\n",
      "Cagliari\n",
      "\n",
      "Cagliari\n",
      "\n",
      "distanza:  0.0\n",
      "\n",
      "##########################\n",
      "\n",
      "Fiorentina\n",
      "\n",
      "Fiorentina\n",
      "\n",
      "distanza:  0.0\n",
      "\n",
      "##########################\n",
      "\n",
      "Inter\n",
      "\n",
      "Inter\n",
      "\n",
      "distanza:  0.0\n",
      "\n",
      "##########################\n",
      "\n",
      "Juventus\n",
      "\n",
      "Juventus\n",
      "\n",
      "distanza:  0.0\n",
      "\n",
      "##########################\n",
      "\n",
      "Lecce\n",
      "\n",
      "Lecce\n",
      "\n",
      "distanza:  0.0\n",
      "\n",
      "##########################\n",
      "\n",
      "Monza\n",
      "\n",
      "Monza\n",
      "\n",
      "distanza:  0.0\n",
      "\n",
      "##########################\n",
      "\n",
      "Parma\n",
      "\n",
      "Parma\n",
      "\n",
      "distanza:  0.0\n",
      "\n",
      "##########################\n",
      "\n",
      "Verona\n",
      "\n",
      "Verona\n",
      "\n",
      "distanza:  0.0\n",
      "\n",
      "##########################\n",
      "\n",
      "Genoa\n",
      "\n",
      "Genoa\n",
      "\n",
      "distanza:  0.0\n",
      "\n",
      "##########################\n",
      "\n",
      "Frosinone\n",
      "\n",
      "Frosinone\n",
      "\n",
      "distanza:  0.0\n",
      "\n",
      "##########################\n",
      "\n",
      "Salernitana\n",
      "\n",
      "Salernitana\n",
      "\n",
      "distanza:  0.0\n",
      "\n",
      "##########################\n",
      "\n",
      "Sassuolo\n",
      "\n",
      "Sassuolo\n",
      "\n",
      "distanza:  0.0\n",
      "\n",
      "##########################\n",
      "\n",
      "Spezia\n",
      "\n",
      "Spezia\n",
      "\n",
      "distanza:  0.0\n",
      "\n",
      "##########################\n",
      "\n",
      "Cremonese\n",
      "\n",
      "Cremonese\n",
      "\n",
      "distanza:  0.0\n",
      "\n",
      "##########################\n",
      "\n",
      "Sampdoria\n",
      "\n",
      "Sampdoria\n",
      "\n",
      "distanza:  0.0\n",
      "\n"
     ]
    }
   ],
   "source": [
    "odds_team = scraping_odds_team['home_team'].unique().tolist()\n",
    "for team in odds_team:\n",
    "    team_api, dist = find_closest_string(team, api_teams) \n",
    "    print(\"##########################\")\n",
    "    print(\"\")\n",
    "    print(team)\n",
    "    print(\"\")\n",
    "    print(team_api) \n",
    "    print(\"\")\n",
    "    print(f\"distanza:  {dist}\")\n",
    "    print(\"\")\n"
   ]
  },
  {
   "cell_type": "code",
   "execution_count": 13,
   "metadata": {},
   "outputs": [
    {
     "name": "stdout",
     "output_type": "stream",
     "text": [
      "         Column  Null Count\n",
      "0    Unnamed: 0           0\n",
      "1          name           0\n",
      "2          role           0\n",
      "3           age           0\n",
      "4  market_value           0\n",
      "5          team           0\n",
      "6        season           0\n"
     ]
    },
    {
     "data": {
      "application/vnd.microsoft.datawrangler.viewer.v0+json": {
       "columns": [
        {
         "name": "index",
         "rawType": "int64",
         "type": "integer"
        },
        {
         "name": "Column",
         "rawType": "object",
         "type": "string"
        },
        {
         "name": "Null Count",
         "rawType": "int64",
         "type": "integer"
        }
       ],
       "ref": "47a64689-ec64-4bd3-acec-a2a6e1509f9c",
       "rows": [
        [
         "0",
         "Unnamed: 0",
         "0"
        ],
        [
         "1",
         "name",
         "0"
        ],
        [
         "2",
         "role",
         "0"
        ],
        [
         "3",
         "age",
         "0"
        ],
        [
         "4",
         "market_value",
         "0"
        ],
        [
         "5",
         "team",
         "0"
        ],
        [
         "6",
         "season",
         "0"
        ]
       ],
       "shape": {
        "columns": 2,
        "rows": 7
       }
      },
      "text/html": [
       "<div>\n",
       "<style scoped>\n",
       "    .dataframe tbody tr th:only-of-type {\n",
       "        vertical-align: middle;\n",
       "    }\n",
       "\n",
       "    .dataframe tbody tr th {\n",
       "        vertical-align: top;\n",
       "    }\n",
       "\n",
       "    .dataframe thead th {\n",
       "        text-align: right;\n",
       "    }\n",
       "</style>\n",
       "<table border=\"1\" class=\"dataframe\">\n",
       "  <thead>\n",
       "    <tr style=\"text-align: right;\">\n",
       "      <th></th>\n",
       "      <th>Column</th>\n",
       "      <th>Null Count</th>\n",
       "    </tr>\n",
       "  </thead>\n",
       "  <tbody>\n",
       "    <tr>\n",
       "      <th>0</th>\n",
       "      <td>Unnamed: 0</td>\n",
       "      <td>0</td>\n",
       "    </tr>\n",
       "    <tr>\n",
       "      <th>1</th>\n",
       "      <td>name</td>\n",
       "      <td>0</td>\n",
       "    </tr>\n",
       "    <tr>\n",
       "      <th>2</th>\n",
       "      <td>role</td>\n",
       "      <td>0</td>\n",
       "    </tr>\n",
       "    <tr>\n",
       "      <th>3</th>\n",
       "      <td>age</td>\n",
       "      <td>0</td>\n",
       "    </tr>\n",
       "    <tr>\n",
       "      <th>4</th>\n",
       "      <td>market_value</td>\n",
       "      <td>0</td>\n",
       "    </tr>\n",
       "    <tr>\n",
       "      <th>5</th>\n",
       "      <td>team</td>\n",
       "      <td>0</td>\n",
       "    </tr>\n",
       "    <tr>\n",
       "      <th>6</th>\n",
       "      <td>season</td>\n",
       "      <td>0</td>\n",
       "    </tr>\n",
       "  </tbody>\n",
       "</table>\n",
       "</div>"
      ],
      "text/plain": [
       "         Column  Null Count\n",
       "0    Unnamed: 0           0\n",
       "1          name           0\n",
       "2          role           0\n",
       "3           age           0\n",
       "4  market_value           0\n",
       "5          team           0\n",
       "6        season           0"
      ]
     },
     "execution_count": 13,
     "metadata": {},
     "output_type": "execute_result"
    }
   ],
   "source": [
    "count_nulls_per_column(scraping_player_team)"
   ]
  },
  {
   "cell_type": "markdown",
   "metadata": {},
   "source": [
    "### check column with null value \n"
   ]
  },
  {
   "cell_type": "code",
   "execution_count": 17,
   "metadata": {},
   "outputs": [
    {
     "name": "stdout",
     "output_type": "stream",
     "text": [
      "                 Column  Null Count\n",
      "0            Unnamed: 0           0\n",
      "1             matchweek           1\n",
      "2                season           0\n",
      "3                  date           0\n",
      "4             home_team           0\n",
      "5             away_team           0\n",
      "6                winner           0\n",
      "7   home_goals_halftime           0\n",
      "8   away_goals_halftime           0\n",
      "9            home_goals           0\n",
      "10           away_goals           0\n",
      "11            match_key           0\n"
     ]
    },
    {
     "data": {
      "application/vnd.microsoft.datawrangler.viewer.v0+json": {
       "columns": [
        {
         "name": "index",
         "rawType": "int64",
         "type": "integer"
        },
        {
         "name": "Unnamed: 0",
         "rawType": "int64",
         "type": "integer"
        },
        {
         "name": "matchweek",
         "rawType": "float64",
         "type": "float"
        },
        {
         "name": "season",
         "rawType": "int64",
         "type": "integer"
        },
        {
         "name": "date",
         "rawType": "object",
         "type": "string"
        },
        {
         "name": "home_team",
         "rawType": "object",
         "type": "string"
        },
        {
         "name": "away_team",
         "rawType": "object",
         "type": "string"
        },
        {
         "name": "winner",
         "rawType": "object",
         "type": "string"
        },
        {
         "name": "home_goals_halftime",
         "rawType": "int64",
         "type": "integer"
        },
        {
         "name": "away_goals_halftime",
         "rawType": "int64",
         "type": "integer"
        },
        {
         "name": "home_goals",
         "rawType": "int64",
         "type": "integer"
        },
        {
         "name": "away_goals",
         "rawType": "int64",
         "type": "integer"
        },
        {
         "name": "match_key",
         "rawType": "object",
         "type": "string"
        }
       ],
       "ref": "a64df8cd-9847-4435-b6f7-3ba6393b1989",
       "rows": [
        [
         "760",
         "760",
         null,
         "2022",
         "2023-06-11",
         "Spezia",
         "Verona",
         "AWAY_WINNER",
         "1",
         "3",
         "1",
         "3",
         "2022-Spezia-Verona"
        ]
       ],
       "shape": {
        "columns": 12,
        "rows": 1
       }
      },
      "text/html": [
       "<div>\n",
       "<style scoped>\n",
       "    .dataframe tbody tr th:only-of-type {\n",
       "        vertical-align: middle;\n",
       "    }\n",
       "\n",
       "    .dataframe tbody tr th {\n",
       "        vertical-align: top;\n",
       "    }\n",
       "\n",
       "    .dataframe thead th {\n",
       "        text-align: right;\n",
       "    }\n",
       "</style>\n",
       "<table border=\"1\" class=\"dataframe\">\n",
       "  <thead>\n",
       "    <tr style=\"text-align: right;\">\n",
       "      <th></th>\n",
       "      <th>Unnamed: 0</th>\n",
       "      <th>matchweek</th>\n",
       "      <th>season</th>\n",
       "      <th>date</th>\n",
       "      <th>home_team</th>\n",
       "      <th>away_team</th>\n",
       "      <th>winner</th>\n",
       "      <th>home_goals_halftime</th>\n",
       "      <th>away_goals_halftime</th>\n",
       "      <th>home_goals</th>\n",
       "      <th>away_goals</th>\n",
       "      <th>match_key</th>\n",
       "    </tr>\n",
       "  </thead>\n",
       "  <tbody>\n",
       "    <tr>\n",
       "      <th>760</th>\n",
       "      <td>760</td>\n",
       "      <td>NaN</td>\n",
       "      <td>2022</td>\n",
       "      <td>2023-06-11</td>\n",
       "      <td>Spezia</td>\n",
       "      <td>Verona</td>\n",
       "      <td>AWAY_WINNER</td>\n",
       "      <td>1</td>\n",
       "      <td>3</td>\n",
       "      <td>1</td>\n",
       "      <td>3</td>\n",
       "      <td>2022-Spezia-Verona</td>\n",
       "    </tr>\n",
       "  </tbody>\n",
       "</table>\n",
       "</div>"
      ],
      "text/plain": [
       "     Unnamed: 0  matchweek  season        date home_team away_team  \\\n",
       "760         760        NaN    2022  2023-06-11    Spezia    Verona   \n",
       "\n",
       "          winner  home_goals_halftime  away_goals_halftime  home_goals  \\\n",
       "760  AWAY_WINNER                    1                    3           1   \n",
       "\n",
       "     away_goals           match_key  \n",
       "760           3  2022-Spezia-Verona  "
      ]
     },
     "execution_count": 17,
     "metadata": {},
     "output_type": "execute_result"
    }
   ],
   "source": [
    "\n",
    "##### COMPLETENESS\n",
    "count_nulls_per_column(api_matches) \n",
    "\n",
    "api_matches[api_matches['matchweek'].isnull()]\n",
    "\n"
   ]
  },
  {
   "cell_type": "markdown",
   "metadata": {},
   "source": [
    "we can see one row with matchweek value nullable, I checked why, and this match is a playoff to stay in Serie A. We can delete this line"
   ]
  },
  {
   "cell_type": "code",
   "execution_count": 15,
   "metadata": {},
   "outputs": [
    {
     "name": "stdout",
     "output_type": "stream",
     "text": [
      "         Column  Null Count\n",
      "0    Unnamed: 0           0\n",
      "1          team           0\n",
      "2     team_size           0\n",
      "3       avg_age           0\n",
      "4  n_foreigners           0\n",
      "5    team_value           0\n",
      "6        season           0\n"
     ]
    },
    {
     "data": {
      "application/vnd.microsoft.datawrangler.viewer.v0+json": {
       "columns": [
        {
         "name": "index",
         "rawType": "int64",
         "type": "integer"
        },
        {
         "name": "Column",
         "rawType": "object",
         "type": "string"
        },
        {
         "name": "Null Count",
         "rawType": "int64",
         "type": "integer"
        }
       ],
       "ref": "57530399-4604-44d3-88e2-97dd920a1c64",
       "rows": [
        [
         "0",
         "Unnamed: 0",
         "0"
        ],
        [
         "1",
         "team",
         "0"
        ],
        [
         "2",
         "team_size",
         "0"
        ],
        [
         "3",
         "avg_age",
         "0"
        ],
        [
         "4",
         "n_foreigners",
         "0"
        ],
        [
         "5",
         "team_value",
         "0"
        ],
        [
         "6",
         "season",
         "0"
        ]
       ],
       "shape": {
        "columns": 2,
        "rows": 7
       }
      },
      "text/html": [
       "<div>\n",
       "<style scoped>\n",
       "    .dataframe tbody tr th:only-of-type {\n",
       "        vertical-align: middle;\n",
       "    }\n",
       "\n",
       "    .dataframe tbody tr th {\n",
       "        vertical-align: top;\n",
       "    }\n",
       "\n",
       "    .dataframe thead th {\n",
       "        text-align: right;\n",
       "    }\n",
       "</style>\n",
       "<table border=\"1\" class=\"dataframe\">\n",
       "  <thead>\n",
       "    <tr style=\"text-align: right;\">\n",
       "      <th></th>\n",
       "      <th>Column</th>\n",
       "      <th>Null Count</th>\n",
       "    </tr>\n",
       "  </thead>\n",
       "  <tbody>\n",
       "    <tr>\n",
       "      <th>0</th>\n",
       "      <td>Unnamed: 0</td>\n",
       "      <td>0</td>\n",
       "    </tr>\n",
       "    <tr>\n",
       "      <th>1</th>\n",
       "      <td>team</td>\n",
       "      <td>0</td>\n",
       "    </tr>\n",
       "    <tr>\n",
       "      <th>2</th>\n",
       "      <td>team_size</td>\n",
       "      <td>0</td>\n",
       "    </tr>\n",
       "    <tr>\n",
       "      <th>3</th>\n",
       "      <td>avg_age</td>\n",
       "      <td>0</td>\n",
       "    </tr>\n",
       "    <tr>\n",
       "      <th>4</th>\n",
       "      <td>n_foreigners</td>\n",
       "      <td>0</td>\n",
       "    </tr>\n",
       "    <tr>\n",
       "      <th>5</th>\n",
       "      <td>team_value</td>\n",
       "      <td>0</td>\n",
       "    </tr>\n",
       "    <tr>\n",
       "      <th>6</th>\n",
       "      <td>season</td>\n",
       "      <td>0</td>\n",
       "    </tr>\n",
       "  </tbody>\n",
       "</table>\n",
       "</div>"
      ],
      "text/plain": [
       "         Column  Null Count\n",
       "0    Unnamed: 0           0\n",
       "1          team           0\n",
       "2     team_size           0\n",
       "3       avg_age           0\n",
       "4  n_foreigners           0\n",
       "5    team_value           0\n",
       "6        season           0"
      ]
     },
     "execution_count": 15,
     "metadata": {},
     "output_type": "execute_result"
    }
   ],
   "source": [
    "count_nulls_per_column(scraping_lista_team)"
   ]
  },
  {
   "cell_type": "code",
   "execution_count": 16,
   "metadata": {},
   "outputs": [
    {
     "data": {
      "application/vnd.microsoft.datawrangler.viewer.v0+json": {
       "columns": [
        {
         "name": "index",
         "rawType": "int64",
         "type": "integer"
        },
        {
         "name": "Unnamed: 0",
         "rawType": "int64",
         "type": "integer"
        },
        {
         "name": "matchweek",
         "rawType": "float64",
         "type": "float"
        },
        {
         "name": "season",
         "rawType": "int64",
         "type": "integer"
        },
        {
         "name": "date",
         "rawType": "object",
         "type": "string"
        },
        {
         "name": "home_team",
         "rawType": "object",
         "type": "string"
        },
        {
         "name": "away_team",
         "rawType": "object",
         "type": "string"
        },
        {
         "name": "winner",
         "rawType": "object",
         "type": "string"
        },
        {
         "name": "home_goals_halftime",
         "rawType": "int64",
         "type": "integer"
        },
        {
         "name": "away_goals_halftime",
         "rawType": "int64",
         "type": "integer"
        },
        {
         "name": "home_goals",
         "rawType": "int64",
         "type": "integer"
        },
        {
         "name": "away_goals",
         "rawType": "int64",
         "type": "integer"
        },
        {
         "name": "match_key",
         "rawType": "object",
         "type": "string"
        }
       ],
       "ref": "26242b9b-4653-4acb-b062-56253397b6a7",
       "rows": [
        [
         "760",
         "760",
         null,
         "2022",
         "2023-06-11",
         "Spezia",
         "Verona",
         "AWAY_WINNER",
         "1",
         "3",
         "1",
         "3",
         "2022-Spezia-Verona"
        ]
       ],
       "shape": {
        "columns": 12,
        "rows": 1
       }
      },
      "text/html": [
       "<div>\n",
       "<style scoped>\n",
       "    .dataframe tbody tr th:only-of-type {\n",
       "        vertical-align: middle;\n",
       "    }\n",
       "\n",
       "    .dataframe tbody tr th {\n",
       "        vertical-align: top;\n",
       "    }\n",
       "\n",
       "    .dataframe thead th {\n",
       "        text-align: right;\n",
       "    }\n",
       "</style>\n",
       "<table border=\"1\" class=\"dataframe\">\n",
       "  <thead>\n",
       "    <tr style=\"text-align: right;\">\n",
       "      <th></th>\n",
       "      <th>Unnamed: 0</th>\n",
       "      <th>matchweek</th>\n",
       "      <th>season</th>\n",
       "      <th>date</th>\n",
       "      <th>home_team</th>\n",
       "      <th>away_team</th>\n",
       "      <th>winner</th>\n",
       "      <th>home_goals_halftime</th>\n",
       "      <th>away_goals_halftime</th>\n",
       "      <th>home_goals</th>\n",
       "      <th>away_goals</th>\n",
       "      <th>match_key</th>\n",
       "    </tr>\n",
       "  </thead>\n",
       "  <tbody>\n",
       "    <tr>\n",
       "      <th>760</th>\n",
       "      <td>760</td>\n",
       "      <td>NaN</td>\n",
       "      <td>2022</td>\n",
       "      <td>2023-06-11</td>\n",
       "      <td>Spezia</td>\n",
       "      <td>Verona</td>\n",
       "      <td>AWAY_WINNER</td>\n",
       "      <td>1</td>\n",
       "      <td>3</td>\n",
       "      <td>1</td>\n",
       "      <td>3</td>\n",
       "      <td>2022-Spezia-Verona</td>\n",
       "    </tr>\n",
       "  </tbody>\n",
       "</table>\n",
       "</div>"
      ],
      "text/plain": [
       "     Unnamed: 0  matchweek  season        date home_team away_team  \\\n",
       "760         760        NaN    2022  2023-06-11    Spezia    Verona   \n",
       "\n",
       "          winner  home_goals_halftime  away_goals_halftime  home_goals  \\\n",
       "760  AWAY_WINNER                    1                    3           1   \n",
       "\n",
       "     away_goals           match_key  \n",
       "760           3  2022-Spezia-Verona  "
      ]
     },
     "execution_count": 16,
     "metadata": {},
     "output_type": "execute_result"
    }
   ],
   "source": [
    "api_matches[api_matches['matchweek'].isnull()]"
   ]
  }
 ],
 "metadata": {
  "kernelspec": {
   "display_name": "venv",
   "language": "python",
   "name": "python3"
  },
  "language_info": {
   "codemirror_mode": {
    "name": "ipython",
    "version": 3
   },
   "file_extension": ".py",
   "mimetype": "text/x-python",
   "name": "python",
   "nbconvert_exporter": "python",
   "pygments_lexer": "ipython3",
   "version": "3.12.3"
  }
 },
 "nbformat": 4,
 "nbformat_minor": 2
}
