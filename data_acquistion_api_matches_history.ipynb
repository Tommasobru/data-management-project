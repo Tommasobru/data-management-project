{
 "cells": [
  {
   "cell_type": "code",
   "execution_count": 1,
   "metadata": {},
   "outputs": [],
   "source": [
    "import requests\n",
    "import json\n",
    "import pandas as pd\n",
    "import yaml \n",
    "import time\n"
   ]
  },
  {
   "cell_type": "code",
   "execution_count": 2,
   "metadata": {},
   "outputs": [],
   "source": [
    "with open('psw/token.yml', 'r') as f:\n",
    "    token_file = yaml.safe_load(f)\n",
    "\n",
    "TOKEN = token_file['TOKEN API FOOTBALL']\n",
    "\n",
    "\n",
    "\n",
    "url = 'https://v3.football.api-sports.io/fixtures'\n",
    "url_stat = \"https://v3.football.api-sports.io/teams/statistics\"\n",
    "headers = { 'x-rapidapi-key': TOKEN }\n"
   ]
  },
  {
   "cell_type": "code",
   "execution_count": 3,
   "metadata": {},
   "outputs": [],
   "source": [
    "years = [2021,2022,2023]\n",
    "\n",
    "matches_data = []\n",
    "stat_data = []\n",
    "formations_data = []\n",
    "requests_count = 0\n",
    "\n",
    "for year in years:\n",
    "    params = {'season':year\n",
    "              ,'league': 135}\n",
    "    response = requests.get(url, headers=headers, params=params)\n",
    "    requests_count += 1\n",
    "\n",
    "    if requests_count % 10 == 0:\n",
    "        time.sleep(60)\n",
    "\n",
    "    if response.status_code != 200:\n",
    "        print(f\"Errore nella richiesta: {response.status_code}\")\n",
    "\n",
    "    data = response.json()\n",
    "    matches = data.get('response',[])\n",
    "    \n",
    "    diz_id = {}\n",
    "    for match in matches:\n",
    "        date = match[\"fixture\"][\"date\"].split(\"T\")[0]\n",
    "        giornata = match[\"league\"][\"round\"]\n",
    "        home_team = match[\"teams\"][\"home\"][\"name\"]\n",
    "        home_winner = match[\"teams\"][\"home\"][\"winner\"]\n",
    "        away_team = match[\"teams\"][\"away\"][\"name\"]\n",
    "        away_winner = match[\"teams\"][\"away\"][\"winner\"]\n",
    "        home_goals = match[\"goals\"][\"home\"]\n",
    "        away_goals = match[\"goals\"][\"away\"]\n",
    "        home_goals_halftime = match[\"score\"][\"halftime\"][\"home\"]\n",
    "        away_goals_halftime = match[\"score\"][\"halftime\"][\"away\"]\n",
    "        penalty_home = match[\"score\"][\"penalty\"][\"home\"]\n",
    "        penalty_away = match[\"score\"][\"penalty\"][\"away\"]\n",
    "        id_home = match[\"teams\"][\"home\"][\"id\"]\n",
    "\n",
    "\n",
    "        if id_home not in diz_id:\n",
    "            diz_id[id_home] = home_team\n",
    "\n",
    "        matches_data.append({\n",
    "            \"season\": year,\n",
    "            \"date\": date,\n",
    "            \"matchweek\": giornata,\n",
    "            \"home_team\": home_team,\n",
    "            \"home_winner\": home_winner,\n",
    "            \"away_team\":away_team,\n",
    "            \"away_winner\":away_winner,\n",
    "            \"home_goals\": home_goals,\n",
    "            \"away_goals\": away_goals,\n",
    "            \"home_goals_halftime\": home_goals_halftime,\n",
    "            \"away_goals_halftime\": away_goals_halftime})"
   ]
  },
  {
   "cell_type": "code",
   "execution_count": 4,
   "metadata": {},
   "outputs": [],
   "source": [
    "df_matches = pd.DataFrame(matches_data)\n",
    "df_matches.to_csv('dataset/matches_history.csv', index= False)"
   ]
  }
 ],
 "metadata": {
  "kernelspec": {
   "display_name": "venv",
   "language": "python",
   "name": "python3"
  },
  "language_info": {
   "codemirror_mode": {
    "name": "ipython",
    "version": 3
   },
   "file_extension": ".py",
   "mimetype": "text/x-python",
   "name": "python",
   "nbconvert_exporter": "python",
   "pygments_lexer": "ipython3",
   "version": "3.12.3"
  }
 },
 "nbformat": 4,
 "nbformat_minor": 2
}
