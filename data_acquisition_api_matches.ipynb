{
 "cells": [
  {
   "cell_type": "code",
   "execution_count": 1,
   "metadata": {},
   "outputs": [],
   "source": [
    "import requests\n",
    "import json\n",
    "import pandas as pd\n",
    "import yaml "
   ]
  },
  {
   "cell_type": "markdown",
   "metadata": {},
   "source": [
    "reads an API token from a YAML file and uses it to send a request"
   ]
  },
  {
   "cell_type": "code",
   "execution_count": 2,
   "metadata": {},
   "outputs": [],
   "source": [
    "with open('psw/token.yml', 'r') as f:\n",
    "    token_file = yaml.safe_load(f)\n",
    "\n",
    "TOKEN = token_file['TOKEN FOOTBALL DATA']\n",
    "\n",
    "\n",
    "url = 'https://api.football-data.org/v4/competitions/SA/matches'\n",
    "headers = { 'X-Auth-Token': TOKEN }\n",
    "\n"
   ]
  },
  {
   "cell_type": "markdown",
   "metadata": {},
   "source": [
    "### API CALL\n",
    "\n",
    "This code makes a request to the API to get the data of Serie A matches of the 2024 season, extracts relevant information (such as teams, scores, winner, etc.) and organizes it in a DataFrame pandas."
   ]
  },
  {
   "cell_type": "code",
   "execution_count": 3,
   "metadata": {},
   "outputs": [],
   "source": [
    "years = [2024]\n",
    "\n",
    "matches_data = []\n",
    "goals_data =[]\n",
    "\n",
    "for year in years:\n",
    "    params = {'season':year}\n",
    "    response = requests.get(url, headers=headers, params=params)\n",
    "\n",
    "    if response.status_code != 200:\n",
    "        print(f\"Errore nella richiesta: {response.status_code}\")\n",
    "\n",
    "\n",
    "    data = response.json()\n",
    "    matches = data.get('matches',[])\n",
    "\n",
    "\n",
    "    for match in matches:\n",
    "        match_id = match['id']\n",
    "        matchweek = match['matchday']\n",
    "        season = year\n",
    "        date = match['utcDate'].split(\"T\")[0]\n",
    "        home_team = match['homeTeam']['name']\n",
    "        away_team = match['awayTeam']['name']\n",
    "        home_score = match['score']['fullTime']['home']\n",
    "        away_score = match['score']['fullTime']['away']\n",
    "\n",
    "\n",
    "        goal = match.get('score', [])\n",
    "        winner = goal['winner']\n",
    "        duration = goal['duration']\n",
    "        fullTimeHomeGoal = goal['fullTime']['home']\n",
    "        fullTimeAwayGoal = goal['fullTime']['away']\n",
    "        halfTimeHomeGoal = goal['halfTime']['home']\n",
    "        halfTimeAwayGoal = goal['halfTime']['away']\n",
    "\n",
    "        matches_data.append({\n",
    "            \"match_id\": match_id,\n",
    "            \"matchweek\": matchweek,\n",
    "            \"season\": season,\n",
    "            \"date\" : date,\n",
    "            \"home_team\": home_team,\n",
    "            \"away_team\": away_team,\n",
    "            \"winner\" : winner,\n",
    "            \"half_time_home_score\" : halfTimeHomeGoal,\n",
    "            \"half_time_away_score\" : halfTimeAwayGoal, \n",
    "            \"home_score\": home_score,\n",
    "            \"away_score\": away_score\n",
    "\n",
    "        })\n",
    "\n",
    "\n",
    "\n",
    "    # Crea DataFrame dai dati estratti\n",
    "    matches_df = pd.DataFrame(matches_data)"
   ]
  },
  {
   "cell_type": "markdown",
   "metadata": {},
   "source": [
    "saves the dataframe to a csv file"
   ]
  },
  {
   "cell_type": "code",
   "execution_count": 4,
   "metadata": {},
   "outputs": [],
   "source": [
    "matches_df.to_csv(\"dataset/matches.csv\", index=False)\n"
   ]
  }
 ],
 "metadata": {
  "kernelspec": {
   "display_name": "venv",
   "language": "python",
   "name": "python3"
  },
  "language_info": {
   "codemirror_mode": {
    "name": "ipython",
    "version": 3
   },
   "file_extension": ".py",
   "mimetype": "text/x-python",
   "name": "python",
   "nbconvert_exporter": "python",
   "pygments_lexer": "ipython3",
   "version": "3.12.3"
  }
 },
 "nbformat": 4,
 "nbformat_minor": 2
}
