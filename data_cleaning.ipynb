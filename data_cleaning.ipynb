{
 "cells": [
  {
   "cell_type": "code",
   "execution_count": 59,
   "metadata": {},
   "outputs": [],
   "source": [
    "import pandas as pd\n",
    "import difflib  \n",
    "import numpy as np"
   ]
  },
  {
   "cell_type": "code",
   "execution_count": 60,
   "metadata": {},
   "outputs": [],
   "source": [
    "def convert_string(string):\n",
    "    # removes symbols \"€\" and replace \",\" with \".\"\n",
    "    clean_string = string.replace(\"€\", \"\").strip().replace(\",\", \".\")\n",
    "\n",
    "    # check if string contains mln or mila and remove them \n",
    "    if \"mln\" in clean_string:\n",
    "        # remove \"mln\" and convert the value to millions\n",
    "        return float(clean_string.replace(\"mln\", \"\").strip()) * 1000000\n",
    "    elif \"mila\" in clean_string:\n",
    "        # remove \"mila\" and convert the value to thousans\n",
    "        return float(clean_string.replace(\"mila\", \"\").strip()) * 1000\n",
    "    elif \"-\" in clean_string:\n",
    "        return 0\n",
    "    else:\n",
    "        return float(clean_string)"
   ]
  },
  {
   "cell_type": "code",
   "execution_count": 61,
   "metadata": {},
   "outputs": [],
   "source": [
    "def cleaning_player_data(df):\n",
    "    # leggi il file \n",
    "\n",
    "    \n",
    "    for index, row in df.iterrows():\n",
    "        name = row['name'].strip().split()\n",
    "        role = row[\"role\"].strip().split()\n",
    "\n",
    "        if len(name) + 1 == len(role):\n",
    "            role_clean = \" \".join(role[-1:])\n",
    "            df.at[index,\"role\"] = role_clean\n",
    "        elif len(name) + 2 == len(role):\n",
    "            role_clean = \" \".join(role[-2:])\n",
    "            df.at[index,\"role\"] = role_clean\n",
    "        else:\n",
    "            role_clean = \" \".join(role[-3:])\n",
    "            df.at[index,\"role\"] = role_clean\n",
    "            \n",
    "    #  apply the function to the whole column\n",
    "    df['market_value'] = df[\"market_value\"].apply(convert_string)\n",
    "\n",
    "\n",
    "    return df\n"
   ]
  },
  {
   "cell_type": "code",
   "execution_count": 62,
   "metadata": {},
   "outputs": [],
   "source": [
    "def lower_string(word):\n",
    "    # converts everything to lower case\n",
    "    word = word.lower()\n",
    "    return word"
   ]
  },
  {
   "cell_type": "code",
   "execution_count": 63,
   "metadata": {},
   "outputs": [],
   "source": [
    "def distance_between_string(string1 , string2):\n",
    "    # converts string to lower case\n",
    "    lower_string1 = lower_string(string1)\n",
    "    lower_string2 = lower_string(string2)\n",
    "\n",
    "    # calculate the difference between string\n",
    "    d = difflib.Differ()\n",
    "    diff = list(d.compare(lower_string1,lower_string2))\n",
    "\n",
    "    # count the number of insertion, deletion or replacement operations\n",
    "    #distance_count = sum(1 for sim in diff if sim.startswith('-') or sim.startswith('+'))\n",
    "    distance_count = 0\n",
    "    # calculate max length between the string\n",
    "    max_length = max(len(lower_string1), len(lower_string2))\n",
    "\n",
    "    for i, sim in enumerate(diff):\n",
    "        if sim.startswith('-') or sim.startswith('+'):  # Modifica, inserzione o cancellazione\n",
    "            weight = 1.5 if i < 5 else 1  # Pesa di più i primi 3 caratteri\n",
    "            distance_count += weight  \n",
    "\n",
    "    # calculate EOD normalized\n",
    "    normalized_eod = distance_count/max_length \n",
    "\n",
    "    return normalized_eod"
   ]
  },
  {
   "cell_type": "code",
   "execution_count": 64,
   "metadata": {},
   "outputs": [],
   "source": [
    "# find closest string \n",
    "def find_closest_string(name, target_string_list):\n",
    "    if not target_string_list:\n",
    "        return None\n",
    "    \n",
    "    min_normalized = float('inf')\n",
    "    closest_string = None  \n",
    "\n",
    "    for name_target in target_string_list:\n",
    "        normalized_eod = distance_between_string(name,name_target)\n",
    "\n",
    "        if normalized_eod < min_normalized:\n",
    "            min_normalized = normalized_eod\n",
    "            closest_string = name_target\n",
    "\n",
    "    return closest_string"
   ]
  },
  {
   "cell_type": "code",
   "execution_count": 65,
   "metadata": {},
   "outputs": [],
   "source": [
    "def find_and_replace_name(team_target, diz):\n",
    "    team = diz[team_target] \n",
    "\n",
    "    return team"
   ]
  },
  {
   "cell_type": "code",
   "execution_count": 66,
   "metadata": {},
   "outputs": [],
   "source": [
    "def create_diz(df, name_column, target_name):\n",
    "    diz = {}\n",
    "\n",
    "    for index,row in df.iterrows():\n",
    "        home_team = row[name_column]\n",
    "        team = find_closest_string(home_team, target_name)\n",
    "        if home_team not in diz:\n",
    "            diz[home_team] = team\n",
    "    \n",
    "    return diz"
   ]
  },
  {
   "cell_type": "code",
   "execution_count": 67,
   "metadata": {},
   "outputs": [],
   "source": [
    "def create_diz_player(df, name_column, target_name):\n",
    "    years = [2021,2022,2023,2024]\n",
    "    diz = {}\n",
    "    for year in years:\n",
    "        diz[year] = {}\n",
    "        for index, row in df[df['season'] == year].iterrows():\n",
    "            player_name = row[name_column]\n",
    "            name = find_closest_string(player_name, target_name[target_name['season']==year]['name'].tolist())\n",
    "            if name not in diz[year]:\n",
    "                diz[year][player_name] = name \n",
    "    return diz"
   ]
  },
  {
   "cell_type": "code",
   "execution_count": 68,
   "metadata": {},
   "outputs": [],
   "source": [
    "file_player_data = 'dataset/player-team.csv'\n",
    "file_matches = 'dataset/matches.csv'\n",
    "file_matches_history = 'dataset/matches_history.csv'\n",
    "file_lista_team = 'dataset/list-team.csv'\n",
    "file_odds_per_match = 'dataset/odds_per_match.csv'\n",
    "file_matches_goal = 'dataset/matches_goal.csv'\n",
    "\n",
    "df_lista_team = pd.read_csv(file_lista_team)\n",
    "df_player = pd.read_csv(file_player_data)\n",
    "odds_per_match = pd.read_csv(file_odds_per_match, sep = \";\")\n",
    "matches  = pd.read_csv(file_matches)\n",
    "matches_history = pd.read_csv(file_matches_history)\n",
    "matches_goal = pd.read_csv(file_matches_goal, sep = \";\")\n"
   ]
  },
  {
   "cell_type": "code",
   "execution_count": 69,
   "metadata": {},
   "outputs": [],
   "source": [
    "# we derive the list of team names taken from the odds data\n",
    "nomi_squadre = odds_per_match['home_team'].unique().tolist()\n",
    "\n",
    "# we create a dictionary for each dataframe derived from web scraping where for each team we associate the respective API name, so as to standardize the names \n",
    "diz_squadre_player = create_diz(df_player, name_column='team', target_name=nomi_squadre)\n",
    "\n",
    "diz_lista_squadre = create_diz(df_lista_team, name_column='team', target_name=nomi_squadre)\n",
    "\n",
    "diz_matches = create_diz(matches,name_column='home_team',target_name=nomi_squadre)\n",
    "\n",
    "diz_matches_history = create_diz(matches_history, name_column=\"home_team\", target_name=nomi_squadre)\n",
    "\n",
    "diz_matches_goal = create_diz(matches_goal, name_column='home_team', target_name=nomi_squadre)"
   ]
  },
  {
   "cell_type": "code",
   "execution_count": 70,
   "metadata": {},
   "outputs": [],
   "source": [
    "target_name_player = df_player[['season','name']].drop_duplicates()\n",
    "diz_player = create_diz_player(matches_goal,name_column='scorer', target_name=target_name_player)"
   ]
  },
  {
   "cell_type": "code",
   "execution_count": 71,
   "metadata": {},
   "outputs": [],
   "source": [
    "df_player_data = cleaning_player_data(df_player)\n",
    "df_player_data['team'] = df_player_data['team'].apply(lambda team_target: find_and_replace_name(team_target, diz=diz_squadre_player))\n",
    "df_player_data['age'] = df_player_data['age'].str.extract(r'\\((\\d+)\\)').astype(int)\n",
    "df_player_data.to_csv('dataset/clean dataset/clean_player_team.csv')"
   ]
  },
  {
   "cell_type": "code",
   "execution_count": 72,
   "metadata": {},
   "outputs": [],
   "source": [
    "df_lista_team['team'] = df_lista_team['team'].apply(lambda team_target: find_and_replace_name(team_target, diz=diz_lista_squadre))\n",
    "df_lista_team['team_value'] = df_lista_team['team_value'].apply(convert_string)\n",
    "df_lista_team = df_lista_team.drop('link', axis=1)\n",
    "df_lista_team.to_csv('dataset/clean dataset/clean_list_team.csv')"
   ]
  },
  {
   "cell_type": "code",
   "execution_count": 73,
   "metadata": {},
   "outputs": [],
   "source": [
    "matches['home_team'] = matches['home_team'].apply(lambda team_target: find_and_replace_name(team_target, diz=diz_matches))\n",
    "matches['away_team'] = matches['away_team'].apply(lambda team_target: find_and_replace_name(team_target, diz=diz_matches))\n",
    "matches.dropna(subset=['winner'], inplace = True)"
   ]
  },
  {
   "cell_type": "code",
   "execution_count": 74,
   "metadata": {},
   "outputs": [
    {
     "name": "stderr",
     "output_type": "stream",
     "text": [
      "/var/folders/f_/q4ycb0ns4w1fl3wj2vnn68900000gn/T/ipykernel_17345/1414651585.py:4: FutureWarning: Downcasting object dtype arrays on .fillna, .ffill, .bfill is deprecated and will change in a future version. Call result.infer_objects(copy=False) instead. To opt-in to the future behavior, set `pd.set_option('future.no_silent_downcasting', True)`\n",
      "  matches_history[\"home_winner\"] = matches_history[\"home_winner\"].fillna(False)\n",
      "/var/folders/f_/q4ycb0ns4w1fl3wj2vnn68900000gn/T/ipykernel_17345/1414651585.py:5: FutureWarning: Downcasting object dtype arrays on .fillna, .ffill, .bfill is deprecated and will change in a future version. Call result.infer_objects(copy=False) instead. To opt-in to the future behavior, set `pd.set_option('future.no_silent_downcasting', True)`\n",
      "  matches_history[\"away_winner\"] = matches_history[\"away_winner\"].fillna(False)\n"
     ]
    }
   ],
   "source": [
    "matches_history['home_team'] = matches_history['home_team'].apply(lambda team_target: find_and_replace_name(team_target, diz=diz_matches_history))\n",
    "matches_history['away_team'] = matches_history['away_team'].apply(lambda team_target: find_and_replace_name(team_target, diz=diz_matches_history))\n",
    "matches_history[[\"round\",\"matchweek\"]] = matches_history[\"matchweek\"].str.split(\"-\", expand=True)\n",
    "matches_history[\"home_winner\"] = matches_history[\"home_winner\"].fillna(False) \n",
    "matches_history[\"away_winner\"] = matches_history[\"away_winner\"].fillna(False) \n",
    "\n",
    "# Definizione delle condizioni\n",
    "conditions = [\n",
    "    (matches_history[\"home_winner\"] == True) & (matches_history[\"away_winner\"] == False),  # Home vince\n",
    "    (matches_history[\"home_winner\"] == False) & (matches_history[\"away_winner\"] == True),  # Away vince\n",
    "    (matches_history[\"home_winner\"] == False) & (matches_history[\"away_winner\"] == False)  # Pareggio\n",
    "]\n",
    "\n",
    "# Valori da assegnare per ogni condizione\n",
    "values = [\"HOME_WINNER\", \"AWAY_WINNER\", \"DRAW\"]\n",
    "\n",
    "# Creazione della nuova colonna 'winner'\n",
    "matches_history[\"winner\"] = np.select(conditions, values, default=\"UNKNOWN\")  # Se ci sono valori mancanti, restituisce NaN\n",
    "matches_history = matches_history[[\"matchweek\", \"season\",\"date\",\"home_team\", \"away_team\", \"winner\", \"home_goals_halftime\", \"away_goals_halftime\", \"home_goals\", \"away_goals\"]]\n",
    "\n"
   ]
  },
  {
   "cell_type": "code",
   "execution_count": 75,
   "metadata": {},
   "outputs": [],
   "source": [
    "matches = matches.rename(columns={\"half_time_home_score\":\"home_goals_halftime\", \"half_time_away_score\": \"away_goals_halftime\", \"home_score\": \"home_goals\", \"away_score\": \"away_goals\"})\n",
    "matches = matches[[\"matchweek\", \"season\",\"date\",\"home_team\", \"away_team\", \"winner\", \"home_goals_halftime\", \"away_goals_halftime\", \"home_goals\", \"away_goals\"]]\n",
    "\n",
    "matches_all = pd.concat([matches_history,matches], ignore_index=True)\n",
    "matches_all['match_key'] = matches_all['season'].astype(str) + '-' + matches_all['home_team'] + '-' + matches_all['away_team']\n",
    "matches_all.to_csv('dataset/clean dataset/clean_matches.csv')"
   ]
  },
  {
   "cell_type": "code",
   "execution_count": 76,
   "metadata": {},
   "outputs": [
    {
     "name": "stderr",
     "output_type": "stream",
     "text": [
      "/var/folders/f_/q4ycb0ns4w1fl3wj2vnn68900000gn/T/ipykernel_17345/2423101024.py:8: SettingWithCopyWarning: \n",
      "A value is trying to be set on a copy of a slice from a DataFrame.\n",
      "Try using .loc[row_indexer,col_indexer] = value instead\n",
      "\n",
      "See the caveats in the documentation: https://pandas.pydata.org/pandas-docs/stable/user_guide/indexing.html#returning-a-view-versus-a-copy\n",
      "  matches_goal[matches_goal['season'] == year]['scorer'] = matches_goal[matches_goal['season'] == year]['scorer'].apply(lambda player_target: find_and_replace_name(player_target, diz = diz_player[year]))\n"
     ]
    }
   ],
   "source": [
    "matches_goal['home_team'] = matches_goal['home_team'].apply(lambda team_target: find_and_replace_name(team_target, diz=diz_matches_goal))\n",
    "matches_goal['away_team'] = matches_goal['away_team'].apply(lambda team_target: find_and_replace_name(team_target, diz=diz_matches_goal))\n",
    "matches_goal['match_key'] = matches_goal['season'].astype(str) + '-' + matches_goal['home_team'] + '-' + matches_goal['away_team']\n",
    "matches_goal = matches_goal.drop(['home_team', 'away_team'], axis = 1)\n",
    "\n",
    "years = [2021,2022,2023,2024]\n",
    "for year in years:\n",
    "    matches_goal[matches_goal['season'] == year]['scorer'] = matches_goal[matches_goal['season'] == year]['scorer'].apply(lambda player_target: find_and_replace_name(player_target, diz = diz_player[year]))\n",
    "\n",
    "matches_goal.to_csv('dataset/clean dataset/clean_matches_goal.csv')"
   ]
  },
  {
   "cell_type": "code",
   "execution_count": 77,
   "metadata": {},
   "outputs": [],
   "source": [
    "odds_per_match[['season', 'hours', 'home_team', 'away_team', 'quota_1','quota_x', 'quota_2']]\n",
    "odds_per_match.to_csv('dataset/clean dataset/clean_odds_per_match.csv')\n"
   ]
  }
 ],
 "metadata": {
  "kernelspec": {
   "display_name": "venv",
   "language": "python",
   "name": "python3"
  },
  "language_info": {
   "codemirror_mode": {
    "name": "ipython",
    "version": 3
   },
   "file_extension": ".py",
   "mimetype": "text/x-python",
   "name": "python",
   "nbconvert_exporter": "python",
   "pygments_lexer": "ipython3",
   "version": "3.12.3"
  }
 },
 "nbformat": 4,
 "nbformat_minor": 2
}
